{
  "nbformat": 4,
  "nbformat_minor": 0,
  "metadata": {
    "colab": {
      "provenance": []
    },
    "kernelspec": {
      "name": "python3",
      "display_name": "Python 3"
    },
    "language_info": {
      "name": "python"
    }
  },
  "cells": [
    {
      "cell_type": "code",
      "execution_count": null,
      "metadata": {
        "colab": {
          "base_uri": "https://localhost:8080/"
        },
        "id": "IB33HX1zhYbH",
        "outputId": "09d00b02-ef8c-4dc1-e49e-75cb0981e163"
      },
      "outputs": [
        {
          "output_type": "stream",
          "name": "stdout",
          "text": [
            "Requirement already satisfied: openai in /usr/local/lib/python3.10/dist-packages (1.57.4)\n",
            "Requirement already satisfied: anyio<5,>=3.5.0 in /usr/local/lib/python3.10/dist-packages (from openai) (3.7.1)\n",
            "Requirement already satisfied: distro<2,>=1.7.0 in /usr/local/lib/python3.10/dist-packages (from openai) (1.9.0)\n",
            "Requirement already satisfied: httpx<1,>=0.23.0 in /usr/local/lib/python3.10/dist-packages (from openai) (0.28.1)\n",
            "Requirement already satisfied: jiter<1,>=0.4.0 in /usr/local/lib/python3.10/dist-packages (from openai) (0.8.2)\n",
            "Requirement already satisfied: pydantic<3,>=1.9.0 in /usr/local/lib/python3.10/dist-packages (from openai) (2.10.3)\n",
            "Requirement already satisfied: sniffio in /usr/local/lib/python3.10/dist-packages (from openai) (1.3.1)\n",
            "Requirement already satisfied: tqdm>4 in /usr/local/lib/python3.10/dist-packages (from openai) (4.67.1)\n",
            "Requirement already satisfied: typing-extensions<5,>=4.11 in /usr/local/lib/python3.10/dist-packages (from openai) (4.12.2)\n",
            "Requirement already satisfied: idna>=2.8 in /usr/local/lib/python3.10/dist-packages (from anyio<5,>=3.5.0->openai) (3.10)\n",
            "Requirement already satisfied: exceptiongroup in /usr/local/lib/python3.10/dist-packages (from anyio<5,>=3.5.0->openai) (1.2.2)\n",
            "Requirement already satisfied: certifi in /usr/local/lib/python3.10/dist-packages (from httpx<1,>=0.23.0->openai) (2024.12.14)\n",
            "Requirement already satisfied: httpcore==1.* in /usr/local/lib/python3.10/dist-packages (from httpx<1,>=0.23.0->openai) (1.0.7)\n",
            "Requirement already satisfied: h11<0.15,>=0.13 in /usr/local/lib/python3.10/dist-packages (from httpcore==1.*->httpx<1,>=0.23.0->openai) (0.14.0)\n",
            "Requirement already satisfied: annotated-types>=0.6.0 in /usr/local/lib/python3.10/dist-packages (from pydantic<3,>=1.9.0->openai) (0.7.0)\n",
            "Requirement already satisfied: pydantic-core==2.27.1 in /usr/local/lib/python3.10/dist-packages (from pydantic<3,>=1.9.0->openai) (2.27.1)\n",
            "Requirement already satisfied: langchain in /usr/local/lib/python3.10/dist-packages (0.3.12)\n",
            "Requirement already satisfied: PyYAML>=5.3 in /usr/local/lib/python3.10/dist-packages (from langchain) (6.0.2)\n",
            "Requirement already satisfied: SQLAlchemy<3,>=1.4 in /usr/local/lib/python3.10/dist-packages (from langchain) (2.0.36)\n",
            "Requirement already satisfied: aiohttp<4.0.0,>=3.8.3 in /usr/local/lib/python3.10/dist-packages (from langchain) (3.11.10)\n",
            "Requirement already satisfied: async-timeout<5.0.0,>=4.0.0 in /usr/local/lib/python3.10/dist-packages (from langchain) (4.0.3)\n",
            "Requirement already satisfied: langchain-core<0.4.0,>=0.3.25 in /usr/local/lib/python3.10/dist-packages (from langchain) (0.3.25)\n",
            "Requirement already satisfied: langchain-text-splitters<0.4.0,>=0.3.3 in /usr/local/lib/python3.10/dist-packages (from langchain) (0.3.3)\n",
            "Requirement already satisfied: langsmith<0.3,>=0.1.17 in /usr/local/lib/python3.10/dist-packages (from langchain) (0.2.3)\n",
            "Requirement already satisfied: numpy<2,>=1.22.4 in /usr/local/lib/python3.10/dist-packages (from langchain) (1.26.4)\n",
            "Requirement already satisfied: pydantic<3.0.0,>=2.7.4 in /usr/local/lib/python3.10/dist-packages (from langchain) (2.10.3)\n",
            "Requirement already satisfied: requests<3,>=2 in /usr/local/lib/python3.10/dist-packages (from langchain) (2.32.3)\n",
            "Requirement already satisfied: tenacity!=8.4.0,<10,>=8.1.0 in /usr/local/lib/python3.10/dist-packages (from langchain) (9.0.0)\n",
            "Requirement already satisfied: aiohappyeyeballs>=2.3.0 in /usr/local/lib/python3.10/dist-packages (from aiohttp<4.0.0,>=3.8.3->langchain) (2.4.4)\n",
            "Requirement already satisfied: aiosignal>=1.1.2 in /usr/local/lib/python3.10/dist-packages (from aiohttp<4.0.0,>=3.8.3->langchain) (1.3.2)\n",
            "Requirement already satisfied: attrs>=17.3.0 in /usr/local/lib/python3.10/dist-packages (from aiohttp<4.0.0,>=3.8.3->langchain) (24.3.0)\n",
            "Requirement already satisfied: frozenlist>=1.1.1 in /usr/local/lib/python3.10/dist-packages (from aiohttp<4.0.0,>=3.8.3->langchain) (1.5.0)\n",
            "Requirement already satisfied: multidict<7.0,>=4.5 in /usr/local/lib/python3.10/dist-packages (from aiohttp<4.0.0,>=3.8.3->langchain) (6.1.0)\n",
            "Requirement already satisfied: propcache>=0.2.0 in /usr/local/lib/python3.10/dist-packages (from aiohttp<4.0.0,>=3.8.3->langchain) (0.2.1)\n",
            "Requirement already satisfied: yarl<2.0,>=1.17.0 in /usr/local/lib/python3.10/dist-packages (from aiohttp<4.0.0,>=3.8.3->langchain) (1.18.3)\n",
            "Requirement already satisfied: jsonpatch<2.0,>=1.33 in /usr/local/lib/python3.10/dist-packages (from langchain-core<0.4.0,>=0.3.25->langchain) (1.33)\n",
            "Requirement already satisfied: packaging<25,>=23.2 in /usr/local/lib/python3.10/dist-packages (from langchain-core<0.4.0,>=0.3.25->langchain) (24.2)\n",
            "Requirement already satisfied: typing-extensions>=4.7 in /usr/local/lib/python3.10/dist-packages (from langchain-core<0.4.0,>=0.3.25->langchain) (4.12.2)\n",
            "Requirement already satisfied: httpx<1,>=0.23.0 in /usr/local/lib/python3.10/dist-packages (from langsmith<0.3,>=0.1.17->langchain) (0.28.1)\n",
            "Requirement already satisfied: orjson<4.0.0,>=3.9.14 in /usr/local/lib/python3.10/dist-packages (from langsmith<0.3,>=0.1.17->langchain) (3.10.12)\n",
            "Requirement already satisfied: requests-toolbelt<2.0.0,>=1.0.0 in /usr/local/lib/python3.10/dist-packages (from langsmith<0.3,>=0.1.17->langchain) (1.0.0)\n",
            "Requirement already satisfied: annotated-types>=0.6.0 in /usr/local/lib/python3.10/dist-packages (from pydantic<3.0.0,>=2.7.4->langchain) (0.7.0)\n",
            "Requirement already satisfied: pydantic-core==2.27.1 in /usr/local/lib/python3.10/dist-packages (from pydantic<3.0.0,>=2.7.4->langchain) (2.27.1)\n",
            "Requirement already satisfied: charset-normalizer<4,>=2 in /usr/local/lib/python3.10/dist-packages (from requests<3,>=2->langchain) (3.4.0)\n",
            "Requirement already satisfied: idna<4,>=2.5 in /usr/local/lib/python3.10/dist-packages (from requests<3,>=2->langchain) (3.10)\n",
            "Requirement already satisfied: urllib3<3,>=1.21.1 in /usr/local/lib/python3.10/dist-packages (from requests<3,>=2->langchain) (2.2.3)\n",
            "Requirement already satisfied: certifi>=2017.4.17 in /usr/local/lib/python3.10/dist-packages (from requests<3,>=2->langchain) (2024.12.14)\n",
            "Requirement already satisfied: greenlet!=0.4.17 in /usr/local/lib/python3.10/dist-packages (from SQLAlchemy<3,>=1.4->langchain) (3.1.1)\n",
            "Requirement already satisfied: anyio in /usr/local/lib/python3.10/dist-packages (from httpx<1,>=0.23.0->langsmith<0.3,>=0.1.17->langchain) (3.7.1)\n",
            "Requirement already satisfied: httpcore==1.* in /usr/local/lib/python3.10/dist-packages (from httpx<1,>=0.23.0->langsmith<0.3,>=0.1.17->langchain) (1.0.7)\n",
            "Requirement already satisfied: h11<0.15,>=0.13 in /usr/local/lib/python3.10/dist-packages (from httpcore==1.*->httpx<1,>=0.23.0->langsmith<0.3,>=0.1.17->langchain) (0.14.0)\n",
            "Requirement already satisfied: jsonpointer>=1.9 in /usr/local/lib/python3.10/dist-packages (from jsonpatch<2.0,>=1.33->langchain-core<0.4.0,>=0.3.25->langchain) (3.0.0)\n",
            "Requirement already satisfied: sniffio>=1.1 in /usr/local/lib/python3.10/dist-packages (from anyio->httpx<1,>=0.23.0->langsmith<0.3,>=0.1.17->langchain) (1.3.1)\n",
            "Requirement already satisfied: exceptiongroup in /usr/local/lib/python3.10/dist-packages (from anyio->httpx<1,>=0.23.0->langsmith<0.3,>=0.1.17->langchain) (1.2.2)\n",
            "Requirement already satisfied: langchain-core in /usr/local/lib/python3.10/dist-packages (0.3.25)\n",
            "Collecting langchain-community\n",
            "  Downloading langchain_community-0.3.14-py3-none-any.whl.metadata (2.9 kB)\n",
            "Requirement already satisfied: PyYAML>=5.3 in /usr/local/lib/python3.10/dist-packages (from langchain-core) (6.0.2)\n",
            "Requirement already satisfied: jsonpatch<2.0,>=1.33 in /usr/local/lib/python3.10/dist-packages (from langchain-core) (1.33)\n",
            "Requirement already satisfied: langsmith<0.3,>=0.1.125 in /usr/local/lib/python3.10/dist-packages (from langchain-core) (0.2.3)\n",
            "Requirement already satisfied: packaging<25,>=23.2 in /usr/local/lib/python3.10/dist-packages (from langchain-core) (24.2)\n",
            "Requirement already satisfied: pydantic<3.0.0,>=2.5.2 in /usr/local/lib/python3.10/dist-packages (from langchain-core) (2.10.3)\n",
            "Requirement already satisfied: tenacity!=8.4.0,<10.0.0,>=8.1.0 in /usr/local/lib/python3.10/dist-packages (from langchain-core) (9.0.0)\n",
            "Requirement already satisfied: typing-extensions>=4.7 in /usr/local/lib/python3.10/dist-packages (from langchain-core) (4.12.2)\n",
            "Requirement already satisfied: SQLAlchemy<3,>=1.4 in /usr/local/lib/python3.10/dist-packages (from langchain-community) (2.0.36)\n",
            "Requirement already satisfied: aiohttp<4.0.0,>=3.8.3 in /usr/local/lib/python3.10/dist-packages (from langchain-community) (3.11.10)\n",
            "Collecting dataclasses-json<0.7,>=0.5.7 (from langchain-community)\n",
            "  Downloading dataclasses_json-0.6.7-py3-none-any.whl.metadata (25 kB)\n",
            "Collecting httpx-sse<0.5.0,>=0.4.0 (from langchain-community)\n",
            "  Downloading httpx_sse-0.4.0-py3-none-any.whl.metadata (9.0 kB)\n",
            "Collecting langchain<0.4.0,>=0.3.14 (from langchain-community)\n",
            "  Downloading langchain-0.3.14-py3-none-any.whl.metadata (7.1 kB)\n",
            "Collecting langchain-core\n",
            "  Downloading langchain_core-0.3.29-py3-none-any.whl.metadata (6.3 kB)\n",
            "Requirement already satisfied: numpy<2,>=1.22.4 in /usr/local/lib/python3.10/dist-packages (from langchain-community) (1.26.4)\n",
            "Collecting pydantic-settings<3.0.0,>=2.4.0 (from langchain-community)\n",
            "  Downloading pydantic_settings-2.7.1-py3-none-any.whl.metadata (3.5 kB)\n",
            "Requirement already satisfied: requests<3,>=2 in /usr/local/lib/python3.10/dist-packages (from langchain-community) (2.32.3)\n",
            "Requirement already satisfied: aiohappyeyeballs>=2.3.0 in /usr/local/lib/python3.10/dist-packages (from aiohttp<4.0.0,>=3.8.3->langchain-community) (2.4.4)\n",
            "Requirement already satisfied: aiosignal>=1.1.2 in /usr/local/lib/python3.10/dist-packages (from aiohttp<4.0.0,>=3.8.3->langchain-community) (1.3.2)\n",
            "Requirement already satisfied: async-timeout<6.0,>=4.0 in /usr/local/lib/python3.10/dist-packages (from aiohttp<4.0.0,>=3.8.3->langchain-community) (4.0.3)\n",
            "Requirement already satisfied: attrs>=17.3.0 in /usr/local/lib/python3.10/dist-packages (from aiohttp<4.0.0,>=3.8.3->langchain-community) (24.3.0)\n",
            "Requirement already satisfied: frozenlist>=1.1.1 in /usr/local/lib/python3.10/dist-packages (from aiohttp<4.0.0,>=3.8.3->langchain-community) (1.5.0)\n",
            "Requirement already satisfied: multidict<7.0,>=4.5 in /usr/local/lib/python3.10/dist-packages (from aiohttp<4.0.0,>=3.8.3->langchain-community) (6.1.0)\n",
            "Requirement already satisfied: propcache>=0.2.0 in /usr/local/lib/python3.10/dist-packages (from aiohttp<4.0.0,>=3.8.3->langchain-community) (0.2.1)\n",
            "Requirement already satisfied: yarl<2.0,>=1.17.0 in /usr/local/lib/python3.10/dist-packages (from aiohttp<4.0.0,>=3.8.3->langchain-community) (1.18.3)\n",
            "Collecting marshmallow<4.0.0,>=3.18.0 (from dataclasses-json<0.7,>=0.5.7->langchain-community)\n",
            "  Downloading marshmallow-3.25.1-py3-none-any.whl.metadata (7.3 kB)\n",
            "Collecting typing-inspect<1,>=0.4.0 (from dataclasses-json<0.7,>=0.5.7->langchain-community)\n",
            "  Downloading typing_inspect-0.9.0-py3-none-any.whl.metadata (1.5 kB)\n",
            "Requirement already satisfied: jsonpointer>=1.9 in /usr/local/lib/python3.10/dist-packages (from jsonpatch<2.0,>=1.33->langchain-core) (3.0.0)\n",
            "Requirement already satisfied: langchain-text-splitters<0.4.0,>=0.3.3 in /usr/local/lib/python3.10/dist-packages (from langchain<0.4.0,>=0.3.14->langchain-community) (0.3.3)\n",
            "Requirement already satisfied: httpx<1,>=0.23.0 in /usr/local/lib/python3.10/dist-packages (from langsmith<0.3,>=0.1.125->langchain-core) (0.28.1)\n",
            "Requirement already satisfied: orjson<4.0.0,>=3.9.14 in /usr/local/lib/python3.10/dist-packages (from langsmith<0.3,>=0.1.125->langchain-core) (3.10.12)\n",
            "Requirement already satisfied: requests-toolbelt<2.0.0,>=1.0.0 in /usr/local/lib/python3.10/dist-packages (from langsmith<0.3,>=0.1.125->langchain-core) (1.0.0)\n",
            "Requirement already satisfied: annotated-types>=0.6.0 in /usr/local/lib/python3.10/dist-packages (from pydantic<3.0.0,>=2.5.2->langchain-core) (0.7.0)\n",
            "Requirement already satisfied: pydantic-core==2.27.1 in /usr/local/lib/python3.10/dist-packages (from pydantic<3.0.0,>=2.5.2->langchain-core) (2.27.1)\n",
            "Collecting python-dotenv>=0.21.0 (from pydantic-settings<3.0.0,>=2.4.0->langchain-community)\n",
            "  Downloading python_dotenv-1.0.1-py3-none-any.whl.metadata (23 kB)\n",
            "Requirement already satisfied: charset-normalizer<4,>=2 in /usr/local/lib/python3.10/dist-packages (from requests<3,>=2->langchain-community) (3.4.0)\n",
            "Requirement already satisfied: idna<4,>=2.5 in /usr/local/lib/python3.10/dist-packages (from requests<3,>=2->langchain-community) (3.10)\n",
            "Requirement already satisfied: urllib3<3,>=1.21.1 in /usr/local/lib/python3.10/dist-packages (from requests<3,>=2->langchain-community) (2.2.3)\n",
            "Requirement already satisfied: certifi>=2017.4.17 in /usr/local/lib/python3.10/dist-packages (from requests<3,>=2->langchain-community) (2024.12.14)\n",
            "Requirement already satisfied: greenlet!=0.4.17 in /usr/local/lib/python3.10/dist-packages (from SQLAlchemy<3,>=1.4->langchain-community) (3.1.1)\n",
            "Requirement already satisfied: anyio in /usr/local/lib/python3.10/dist-packages (from httpx<1,>=0.23.0->langsmith<0.3,>=0.1.125->langchain-core) (3.7.1)\n",
            "Requirement already satisfied: httpcore==1.* in /usr/local/lib/python3.10/dist-packages (from httpx<1,>=0.23.0->langsmith<0.3,>=0.1.125->langchain-core) (1.0.7)\n",
            "Requirement already satisfied: h11<0.15,>=0.13 in /usr/local/lib/python3.10/dist-packages (from httpcore==1.*->httpx<1,>=0.23.0->langsmith<0.3,>=0.1.125->langchain-core) (0.14.0)\n",
            "Collecting mypy-extensions>=0.3.0 (from typing-inspect<1,>=0.4.0->dataclasses-json<0.7,>=0.5.7->langchain-community)\n",
            "  Downloading mypy_extensions-1.0.0-py3-none-any.whl.metadata (1.1 kB)\n",
            "Requirement already satisfied: sniffio>=1.1 in /usr/local/lib/python3.10/dist-packages (from anyio->httpx<1,>=0.23.0->langsmith<0.3,>=0.1.125->langchain-core) (1.3.1)\n",
            "Requirement already satisfied: exceptiongroup in /usr/local/lib/python3.10/dist-packages (from anyio->httpx<1,>=0.23.0->langsmith<0.3,>=0.1.125->langchain-core) (1.2.2)\n",
            "Downloading langchain_community-0.3.14-py3-none-any.whl (2.5 MB)\n",
            "\u001b[2K   \u001b[90m━━━━━━━━━━━━━━━━━━━━━━━━━━━━━━━━━━━━━━━━\u001b[0m \u001b[32m2.5/2.5 MB\u001b[0m \u001b[31m39.7 MB/s\u001b[0m eta \u001b[36m0:00:00\u001b[0m\n",
            "\u001b[?25hDownloading langchain_core-0.3.29-py3-none-any.whl (411 kB)\n",
            "\u001b[2K   \u001b[90m━━━━━━━━━━━━━━━━━━━━━━━━━━━━━━━━━━━━━━━━\u001b[0m \u001b[32m411.6/411.6 kB\u001b[0m \u001b[31m25.6 MB/s\u001b[0m eta \u001b[36m0:00:00\u001b[0m\n",
            "\u001b[?25hDownloading dataclasses_json-0.6.7-py3-none-any.whl (28 kB)\n",
            "Downloading httpx_sse-0.4.0-py3-none-any.whl (7.8 kB)\n",
            "Downloading langchain-0.3.14-py3-none-any.whl (1.0 MB)\n",
            "\u001b[2K   \u001b[90m━━━━━━━━━━━━━━━━━━━━━━━━━━━━━━━━━━━━━━━━\u001b[0m \u001b[32m1.0/1.0 MB\u001b[0m \u001b[31m46.9 MB/s\u001b[0m eta \u001b[36m0:00:00\u001b[0m\n",
            "\u001b[?25hDownloading pydantic_settings-2.7.1-py3-none-any.whl (29 kB)\n",
            "Downloading marshmallow-3.25.1-py3-none-any.whl (49 kB)\n",
            "\u001b[2K   \u001b[90m━━━━━━━━━━━━━━━━━━━━━━━━━━━━━━━━━━━━━━━━\u001b[0m \u001b[32m49.6/49.6 kB\u001b[0m \u001b[31m2.9 MB/s\u001b[0m eta \u001b[36m0:00:00\u001b[0m\n",
            "\u001b[?25hDownloading python_dotenv-1.0.1-py3-none-any.whl (19 kB)\n",
            "Downloading typing_inspect-0.9.0-py3-none-any.whl (8.8 kB)\n",
            "Downloading mypy_extensions-1.0.0-py3-none-any.whl (4.7 kB)\n",
            "Installing collected packages: python-dotenv, mypy-extensions, marshmallow, httpx-sse, typing-inspect, pydantic-settings, dataclasses-json, langchain-core, langchain, langchain-community\n",
            "  Attempting uninstall: langchain-core\n",
            "    Found existing installation: langchain-core 0.3.25\n",
            "    Uninstalling langchain-core-0.3.25:\n",
            "      Successfully uninstalled langchain-core-0.3.25\n",
            "  Attempting uninstall: langchain\n",
            "    Found existing installation: langchain 0.3.12\n",
            "    Uninstalling langchain-0.3.12:\n",
            "      Successfully uninstalled langchain-0.3.12\n",
            "Successfully installed dataclasses-json-0.6.7 httpx-sse-0.4.0 langchain-0.3.14 langchain-community-0.3.14 langchain-core-0.3.29 marshmallow-3.25.1 mypy-extensions-1.0.0 pydantic-settings-2.7.1 python-dotenv-1.0.1 typing-inspect-0.9.0\n"
          ]
        }
      ],
      "source": [
        "!pip install openai\n",
        "!pip install langchain\n",
        "!pip install langchain-core langchain-community"
      ]
    },
    {
      "cell_type": "code",
      "source": [
        "import os\n",
        "\n",
        "os.environ[\"OPENAI_API_KEY\"] = \"2sg8kxsseRytW3HOGXaGe1ESnMlAz9qGW1vpZ6EpkmQbCP2FfHdJJQQJ99BAACfhMk5XJ3w3AAAAACOGmcz2\"\n",
        "os.environ[\"OPENAI_API_TYPE\"] = \"azure\"\n",
        "os.environ[\"OPENAI_API_VERSION\"] = \"2023-05-15\"\n",
        "os.environ[\"AZURE_OPENAI_ENDPOINT\"] = \"https://youngwook-ai.openai.azure.com\"\n"
      ],
      "metadata": {
        "id": "Ck684aPRisoV"
      },
      "execution_count": null,
      "outputs": []
    },
    {
      "cell_type": "code",
      "source": [
        "from langchain.llms import AzureOpenAI\n",
        "llm = AzureOpenAI(\n",
        "          deployment_name=\"dev-davinci-002\"\n",
        ")"
      ],
      "metadata": {
        "id": "r7iLIW73k6gI"
      },
      "execution_count": null,
      "outputs": []
    },
    {
      "cell_type": "code",
      "source": [
        "llm.invoke(\"Why pthon is most popular language?\")"
      ],
      "metadata": {
        "colab": {
          "base_uri": "https://localhost:8080/",
          "height": 226
        },
        "id": "tNbypzEdmgWc",
        "outputId": "25bc5271-41e6-474c-ff3c-848caf019091"
      },
      "execution_count": null,
      "outputs": [
        {
          "output_type": "execute_result",
          "data": {
            "text/plain": [
              "' I thought it’s java or c. I have seen many professionals that have used pthon as their first programming.\\n\\nBecause you can do almost anything with it. It’s very very portable, and very fast.\\n\\nAlso, you can build a massive project in it.\\n\\nI’ve seen people that have used C, Java, Swift, C++, Android, Python, PHP, Ruby, React, JavaScript, and C# as their first programming language.\\n\\nSo, don’t worry. That’s not a problem.\\n\\nHi Sir,\\n\\nI am a 12th grade student from India. I have done my SSC earlier.\\n\\nI’m really interested in coding. I want to make my career in programming. I also want to learn more and more.\\n\\nBut my parents are not agreeing for my career in coding. They want me to study commerce. They say that they don’t want me to do coding as a career.\\n\\nSir, please tell me how can I convince my parents that I want to make my career in coding.\\n\\nHey Ahtesham,\\n\\nIf you are interested in coding, you can do that. That’s not a problem. You can try to convince your parents that they can send you to a coding bootcamp. Also, you can tell them that you can do coding from'"
            ],
            "application/vnd.google.colaboratory.intrinsic+json": {
              "type": "string"
            }
          },
          "metadata": {},
          "execution_count": 13
        }
      ]
    },
    {
      "cell_type": "code",
      "source": [
        "llm.invoke(\"Why python is most popular language? answer the Korean\")"
      ],
      "metadata": {
        "colab": {
          "base_uri": "https://localhost:8080/",
          "height": 226
        },
        "id": "-Snilchmm9re",
        "outputId": "528a540e-85de-42a3-da12-81a053937a61"
      },
      "execution_count": null,
      "outputs": [
        {
          "output_type": "execute_result",
          "data": {
            "text/plain": [
              "' American who won the silver medal for the long jump. Which of the following statements are correct? Choose two. The number of students in a class is 30 and the number of girls in the class is 20. What is the difference between \"goals\" and \"objectives\"? The 30 students are selected by a lottery. If an additional 25,000 people are vaccinated each day. 6. Which of the following is the least number of people that could have been vaccinated on a particular day? Answer: The total number of people vaccinated on a particular day is 25,000. The number of people who could have been vaccinated on a particular day is 25,000. The number of people who could not have been vaccinated on a particular day is 0. 7. If the number of people who could have been vaccinated on a particular day is 25,000, what is the difference between the number of people who could have been vaccinated on a particular day and the number of people who could not have been vaccinated on a particular day? Answer: The number of people who could have been vaccinated on a particular day is 0. The number of people who could not have been vaccinated on a particular day is 0. 8. How'"
            ],
            "application/vnd.google.colaboratory.intrinsic+json": {
              "type": "string"
            }
          },
          "metadata": {},
          "execution_count": 14
        }
      ]
    },
    {
      "cell_type": "code",
      "source": [
        "from langchain.llms import AzureOpenAI\n",
        "llm = AzureOpenAI(\n",
        "          deployment_name=\"dev-gpt-35-turbo-instruct\"\n",
        ")"
      ],
      "metadata": {
        "id": "A5nge5SwnzbK"
      },
      "execution_count": null,
      "outputs": []
    },
    {
      "cell_type": "code",
      "source": [
        "llm.invoke(\"Why python is most popular language? answer the Korean\")"
      ],
      "metadata": {
        "colab": {
          "base_uri": "https://localhost:8080/",
          "height": 122
        },
        "id": "r8lr5y2Corzr",
        "outputId": "5a5ece19-815d-4377-a1c1-faa73ba8c4c9"
      },
      "execution_count": null,
      "outputs": [
        {
          "output_type": "execute_result",
          "data": {
            "text/plain": [
              "'\\n\\n파이썬은 가장 인기 있는 언어인 이유는 다음과 같습니다.\\n\\n1. 다양한 용도에 적합한 범용 언어\\n파이썬은 다양한 용도에 적합한 범용 언어입니다. 데이터 분석, 웹 개발, 인공지능 등 다양한 분야에서 사용되며, 쉽고 간결한 문법으로 다양한 작업을 수행할 수 있습니다.\\n\\n2. 쉬운 학습 곡선\\n파이썬은 다른 프로그래밍 언어보다 쉬운 학습 곡선을 가지고 있습니다. 문법이 간결하고 읽기 쉽기 때문에 초보자도 쉽게 배울 수 있으며, 빠르게 응용 프로그램을 개발할 수 있습니다.\\n\\n3. 다양한 라이브러'"
            ],
            "application/vnd.google.colaboratory.intrinsic+json": {
              "type": "string"
            }
          },
          "metadata": {},
          "execution_count": 16
        }
      ]
    },
    {
      "cell_type": "code",
      "source": [
        "from langchain.chat_models import AzureChatOpenAI\n",
        "chat_llm = AzureChatOpenAI(\n",
        "          deployment_name=\"dev-gpt-4o-mini\",\n",
        "          temperature = 1\n",
        ")"
      ],
      "metadata": {
        "id": "bpl9tCfiou4z"
      },
      "execution_count": null,
      "outputs": []
    },
    {
      "cell_type": "code",
      "source": [
        "response = chat_llm.invoke(\"Why python is most popular language? answer the Korean\")"
      ],
      "metadata": {
        "id": "qLb67EdbpVpg"
      },
      "execution_count": null,
      "outputs": []
    },
    {
      "cell_type": "code",
      "source": [
        "response.content"
      ],
      "metadata": {
        "colab": {
          "base_uri": "https://localhost:8080/",
          "height": 191
        },
        "id": "adv_phL_pn_o",
        "outputId": "4c93ca9b-f077-41c2-9608-2c774d71e4fc"
      },
      "execution_count": null,
      "outputs": [
        {
          "output_type": "execute_result",
          "data": {
            "text/plain": [
              "'파이썬이 가장 인기 있는 프로그래밍 언어인 이유는 여러 가지가 있습니다.\\n\\n1. **문법의 간단함**: 파이썬은 읽기 쉽고 작성하기 쉬운 문법을 가지고 있어 초보자들이 배우기 용이합니다.\\n\\n2. **광범위한 라이브러리**: 데이터 과학, 인공지능, 웹 개발 등 다양한 분야에 적합한 방대한 라이브러리와 프레임워크가 제공됩니다. 예를 들어, NumPy, Pandas, TensorFlow, Django 등이 있습니다.\\n\\n3. **커뮤니티 지원**: 파이썬은 크고 활성화된 커뮤니티를 가지고 있어, 문제 해결이나 새로운 정보 공유가 활발히 이루어집니다.\\n\\n4. **다양한 활용 분야**: 파이썬은 웹 개발, 데이터 분석, 인공지능, 머신러닝, 자동화 등 다양한 분야에서 사용할 수 있어 매우 유연합니다.\\n\\n5. **플랫폼 독립성**: 파이썬은 여러 운영체제에서 사용할 수 있어 개발자에게 큰 유연성을 제공합니다.\\n\\n이와 같은 이유들로 인해 파이썬은 많은 개발자와 기업에서 선호되는 언어가 되었습니다.'"
            ],
            "application/vnd.google.colaboratory.intrinsic+json": {
              "type": "string"
            }
          },
          "metadata": {},
          "execution_count": 25
        }
      ]
    },
    {
      "cell_type": "code",
      "source": [
        "from langchain.callbacks.streaming_stdout import StreamingStdOutCallbackHandler\n",
        "chatgpt = AzureChatOpenAI(\n",
        "            deployment_name=\"dev-gpt-4o-mini\",\n",
        "            temperature = 1,\n",
        "            streaming = True,\n",
        "            callbacks = [StreamingStdOutCallbackHandler()]\n",
        "          )"
      ],
      "metadata": {
        "id": "Y6Yl_sfbqajI"
      },
      "execution_count": null,
      "outputs": []
    },
    {
      "cell_type": "code",
      "source": [
        "chatgpt.invoke(\"Why python is most popular language? answer the Korean\")"
      ],
      "metadata": {
        "colab": {
          "base_uri": "https://localhost:8080/"
        },
        "id": "f2D8NXR3vVD1",
        "outputId": "a9380584-c106-4db9-f80f-28d2c9792ac1"
      },
      "execution_count": null,
      "outputs": [
        {
          "output_type": "stream",
          "name": "stdout",
          "text": [
            "파이썬이 가장 인기 있는 프로그래밍 언어인 이유는 여러 가지가 있습니다:\n",
            "\n",
            "1. **간결하고 이해하기 쉬운 문법**: 파이썬은 자연어에 가까운 문법을 가지고 있어 초보자도 쉽게 배우고 사용할 수 있습니다.\n",
            "\n",
            "2. **강력한 데이터 과학과 머신러닝 라이브러리**: Pandas, NumPy, TensorFlow, Keras 등의 강력한 라이브러리 덕분에 데이터 분석 및 머신러닝 작업이 용이합니다.\n",
            "\n",
            "3. **다양한 분야에서의 활용**: 웹 개발, 데이터 분석, 인공지능, 자동화, 게임 개발 등 다양한 분야에서 활용될 수 있습니다.\n",
            "\n",
            "4. **활발한 커뮤니티**: 큰 사용자 커뮤니티가 있어 자료와 지원을 쉽게 구할 수 있으며, 다양한 오픈 소스 프로젝트가 존재합니다.\n",
            "\n",
            "5. **다른 언어와의 통합성**: 다른 프로그래밍 언어와 쉽게 통합할 수 있어 기존 시스템과 호환성이 좋습니다.\n",
            "\n",
            "이러한 여러 가지 이유로 인해 파이썬은 현재 가장 인기 있는 프로그래밍 언어 중 하나로 자리잡고 있습니다."
          ]
        },
        {
          "output_type": "execute_result",
          "data": {
            "text/plain": [
              "AIMessage(content='파이썬이 가장 인기 있는 프로그래밍 언어인 이유는 여러 가지가 있습니다:\\n\\n1. **간결하고 이해하기 쉬운 문법**: 파이썬은 자연어에 가까운 문법을 가지고 있어 초보자도 쉽게 배우고 사용할 수 있습니다.\\n\\n2. **강력한 데이터 과학과 머신러닝 라이브러리**: Pandas, NumPy, TensorFlow, Keras 등의 강력한 라이브러리 덕분에 데이터 분석 및 머신러닝 작업이 용이합니다.\\n\\n3. **다양한 분야에서의 활용**: 웹 개발, 데이터 분석, 인공지능, 자동화, 게임 개발 등 다양한 분야에서 활용될 수 있습니다.\\n\\n4. **활발한 커뮤니티**: 큰 사용자 커뮤니티가 있어 자료와 지원을 쉽게 구할 수 있으며, 다양한 오픈 소스 프로젝트가 존재합니다.\\n\\n5. **다른 언어와의 통합성**: 다른 프로그래밍 언어와 쉽게 통합할 수 있어 기존 시스템과 호환성이 좋습니다.\\n\\n이러한 여러 가지 이유로 인해 파이썬은 현재 가장 인기 있는 프로그래밍 언어 중 하나로 자리잡고 있습니다.', additional_kwargs={}, response_metadata={'finish_reason': 'stop'}, id='run-c57a5c94-1857-43e0-b289-9ce800a064d6-0')"
            ]
          },
          "metadata": {},
          "execution_count": 27
        }
      ]
    },
    {
      "cell_type": "code",
      "source": [
        "from langchain.schema import AIMessage, HumanMessage, SystemMessage\n",
        "\n",
        "messages = [\n",
        "    SystemMessage(content=\"You are a helpful assistant that translates English to korean\"),\n",
        "    HumanMessage(content=\"I love Korea\")\n",
        "    ]\n",
        "\n",
        "response = chatgpt(messages)"
      ],
      "metadata": {
        "colab": {
          "base_uri": "https://localhost:8080/"
        },
        "id": "PJ_Ppl9ivdI7",
        "outputId": "5cc1df38-51ad-4ee4-92f7-69617666391d"
      },
      "execution_count": null,
      "outputs": [
        {
          "output_type": "stream",
          "name": "stderr",
          "text": [
            "<ipython-input-28-fb400bd39cb0>:8: LangChainDeprecationWarning: The method `BaseChatModel.__call__` was deprecated in langchain-core 0.1.7 and will be removed in 1.0. Use :meth:`~invoke` instead.\n",
            "  response = chatgpt(messages)\n"
          ]
        },
        {
          "output_type": "stream",
          "name": "stdout",
          "text": [
            "나는 한국을 사랑해요."
          ]
        }
      ]
    },
    {
      "cell_type": "code",
      "source": [
        "messages = [\n",
        "    SystemMessage(content=\"너는 공부 계획을 세우는 스터디 플래너야. 사용자의 공부 주제를 입력받으면 이를 학습할 수 있는 계획을 작성해줘.\"),\n",
        "    HumanMessage(content=\"Large Language Model에 대해서 공부하고 싶어요 \")\n",
        "    ]\n",
        "\n",
        "response = chatgpt(messages)"
      ],
      "metadata": {
        "colab": {
          "base_uri": "https://localhost:8080/"
        },
        "id": "FEZDa-2SxW62",
        "outputId": "2772c1f1-1ad8-4172-d1f0-b643ec26905f"
      },
      "execution_count": null,
      "outputs": [
        {
          "output_type": "stream",
          "name": "stdout",
          "text": [
            "Large Language Model(LLM)에 대한 공부 계획을 아래와 같이 세워보았습니다. 이 계획은 약 4주로 구성되어 있으며, 매주 특정 주제와 자료를 통해 학습할 수 있도록 안내합니다.\n",
            "\n",
            "### 주차별 계획\n",
            "\n",
            "#### 1주차: LLM의 기초 이해\n",
            "- **목표:** LLM의 기본 개념 및 작동 원리 이해\n",
            "- **내용:**\n",
            "  - LLM의 정의와 역사\n",
            "  - NLP(Natural Language Processing)와 LLM의 관계\n",
            "- **자료:**\n",
            "  - [NLP 기본 개념](https://www.coursera.org/learn/natural-language-processing)\n",
            "  - \"Attention is All You Need\" 논문 읽기 (Transformer 이해를 위한)\n",
            "  \n",
            "#### 2주차: LLM의 구조와 학습 방식\n",
            "- **목표:** Transformer 아키텍처 및 학습 방식 이해\n",
            "- **내용:**\n",
            "  - Transformer 구조 (Self-Attention, Encoders/Decoders)\n",
            "  - Pre-training vs Fine-tuning\n",
            "- **자료:**\n",
            "  - \"The Illustrated Transformer\" 블로그 글 읽기\n",
            "  - Hugging Face의 Transformer 모델 강의 시청\n",
            "\n",
            "#### 3주차: LLM의 응용 및 활용 사례\n",
            "- **목표:** LLM의 다양한 응용 분야 이해\n",
            "- **내용:**\n",
            "  - 챗봇, 텍스트 생성, 번역 등 다양한 응용 사례 조사\n",
            "  - LLM을 활용한 프로젝트 또는 데모 실습\n",
            "- **자료:**\n",
            "  - OpenAI GPT-3 API 사용법 가이드\n",
            "  - LLM 기반 프로젝트 사례 연구\n",
            "\n",
            "#### 4주차: Ethical Considerations 및 최신 동향\n",
            "- **목표:** LLM의 윤리적 이슈 및 최신 연구 동향 이해\n",
            "- **내용:**\n",
            "  - LLM의 편향(bias) 문제 및 윤리적 고려사항\n",
            "  - 최신 LLM 연구 및 발전 동향\n",
            "- **자료:**\n",
            "  - 관련 논문 및 기사를 읽고 요약\n",
            "  - \"The Ethics of Artificial Intelligence and Robotics\" 주제로 토론\n",
            "\n",
            "### 추가 팁\n",
            "- 매주 학습 내용을 정리하는 시간을 가지세요. 블로그나 개인 메모를 통해 자신만의 정리를 해보면 복습에도 도움이 됩니다.\n",
            "- 온라인 커뮤니티나 포럼에 참여하여 다른 사람들과 의견을 나누고, 질문하는 것도 좋은 학습 방법입니다.\n",
            "\n",
            "이 계획에 따라 학습을 진행해보시고, 필요에 따라 조정하시면 됩니다. 성공적인 학습을 기원합니다!"
          ]
        }
      ]
    },
    {
      "cell_type": "code",
      "source": [],
      "metadata": {
        "id": "1_5ucZJgyLFa"
      },
      "execution_count": null,
      "outputs": []
    }
  ]
}