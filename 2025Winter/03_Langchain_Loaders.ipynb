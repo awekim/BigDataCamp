{
  "nbformat": 4,
  "nbformat_minor": 0,
  "metadata": {
    "colab": {
      "provenance": []
    },
    "kernelspec": {
      "name": "python3",
      "display_name": "Python 3"
    },
    "language_info": {
      "name": "python"
    }
  },
  "cells": [
    {
      "cell_type": "code",
      "execution_count": null,
      "metadata": {
        "colab": {
          "base_uri": "https://localhost:8080/"
        },
        "id": "gEoJS6rniQIh",
        "outputId": "db900012-e8bb-4226-fddc-03505ca00ed6"
      },
      "outputs": [
        {
          "output_type": "stream",
          "name": "stdout",
          "text": [
            "Requirement already satisfied: langchain in /usr/local/lib/python3.11/dist-packages (0.3.14)\n",
            "Requirement already satisfied: PyYAML>=5.3 in /usr/local/lib/python3.11/dist-packages (from langchain) (6.0.2)\n",
            "Requirement already satisfied: SQLAlchemy<3,>=1.4 in /usr/local/lib/python3.11/dist-packages (from langchain) (2.0.37)\n",
            "Requirement already satisfied: aiohttp<4.0.0,>=3.8.3 in /usr/local/lib/python3.11/dist-packages (from langchain) (3.11.11)\n",
            "Requirement already satisfied: langchain-core<0.4.0,>=0.3.29 in /usr/local/lib/python3.11/dist-packages (from langchain) (0.3.29)\n",
            "Requirement already satisfied: langchain-text-splitters<0.4.0,>=0.3.3 in /usr/local/lib/python3.11/dist-packages (from langchain) (0.3.5)\n",
            "Requirement already satisfied: langsmith<0.3,>=0.1.17 in /usr/local/lib/python3.11/dist-packages (from langchain) (0.2.10)\n",
            "Requirement already satisfied: numpy<2,>=1.22.4 in /usr/local/lib/python3.11/dist-packages (from langchain) (1.26.4)\n",
            "Requirement already satisfied: pydantic<3.0.0,>=2.7.4 in /usr/local/lib/python3.11/dist-packages (from langchain) (2.10.5)\n",
            "Requirement already satisfied: requests<3,>=2 in /usr/local/lib/python3.11/dist-packages (from langchain) (2.32.3)\n",
            "Requirement already satisfied: tenacity!=8.4.0,<10,>=8.1.0 in /usr/local/lib/python3.11/dist-packages (from langchain) (9.0.0)\n",
            "Requirement already satisfied: aiohappyeyeballs>=2.3.0 in /usr/local/lib/python3.11/dist-packages (from aiohttp<4.0.0,>=3.8.3->langchain) (2.4.4)\n",
            "Requirement already satisfied: aiosignal>=1.1.2 in /usr/local/lib/python3.11/dist-packages (from aiohttp<4.0.0,>=3.8.3->langchain) (1.3.2)\n",
            "Requirement already satisfied: attrs>=17.3.0 in /usr/local/lib/python3.11/dist-packages (from aiohttp<4.0.0,>=3.8.3->langchain) (24.3.0)\n",
            "Requirement already satisfied: frozenlist>=1.1.1 in /usr/local/lib/python3.11/dist-packages (from aiohttp<4.0.0,>=3.8.3->langchain) (1.5.0)\n",
            "Requirement already satisfied: multidict<7.0,>=4.5 in /usr/local/lib/python3.11/dist-packages (from aiohttp<4.0.0,>=3.8.3->langchain) (6.1.0)\n",
            "Requirement already satisfied: propcache>=0.2.0 in /usr/local/lib/python3.11/dist-packages (from aiohttp<4.0.0,>=3.8.3->langchain) (0.2.1)\n",
            "Requirement already satisfied: yarl<2.0,>=1.17.0 in /usr/local/lib/python3.11/dist-packages (from aiohttp<4.0.0,>=3.8.3->langchain) (1.18.3)\n",
            "Requirement already satisfied: jsonpatch<2.0,>=1.33 in /usr/local/lib/python3.11/dist-packages (from langchain-core<0.4.0,>=0.3.29->langchain) (1.33)\n",
            "Requirement already satisfied: packaging<25,>=23.2 in /usr/local/lib/python3.11/dist-packages (from langchain-core<0.4.0,>=0.3.29->langchain) (24.2)\n",
            "Requirement already satisfied: typing-extensions>=4.7 in /usr/local/lib/python3.11/dist-packages (from langchain-core<0.4.0,>=0.3.29->langchain) (4.12.2)\n",
            "Requirement already satisfied: httpx<1,>=0.23.0 in /usr/local/lib/python3.11/dist-packages (from langsmith<0.3,>=0.1.17->langchain) (0.28.1)\n",
            "Requirement already satisfied: orjson<4.0.0,>=3.9.14 in /usr/local/lib/python3.11/dist-packages (from langsmith<0.3,>=0.1.17->langchain) (3.10.14)\n",
            "Requirement already satisfied: requests-toolbelt<2.0.0,>=1.0.0 in /usr/local/lib/python3.11/dist-packages (from langsmith<0.3,>=0.1.17->langchain) (1.0.0)\n",
            "Requirement already satisfied: annotated-types>=0.6.0 in /usr/local/lib/python3.11/dist-packages (from pydantic<3.0.0,>=2.7.4->langchain) (0.7.0)\n",
            "Requirement already satisfied: pydantic-core==2.27.2 in /usr/local/lib/python3.11/dist-packages (from pydantic<3.0.0,>=2.7.4->langchain) (2.27.2)\n",
            "Requirement already satisfied: charset-normalizer<4,>=2 in /usr/local/lib/python3.11/dist-packages (from requests<3,>=2->langchain) (3.4.1)\n",
            "Requirement already satisfied: idna<4,>=2.5 in /usr/local/lib/python3.11/dist-packages (from requests<3,>=2->langchain) (3.10)\n",
            "Requirement already satisfied: urllib3<3,>=1.21.1 in /usr/local/lib/python3.11/dist-packages (from requests<3,>=2->langchain) (2.3.0)\n",
            "Requirement already satisfied: certifi>=2017.4.17 in /usr/local/lib/python3.11/dist-packages (from requests<3,>=2->langchain) (2024.12.14)\n",
            "Requirement already satisfied: greenlet!=0.4.17 in /usr/local/lib/python3.11/dist-packages (from SQLAlchemy<3,>=1.4->langchain) (3.1.1)\n",
            "Requirement already satisfied: anyio in /usr/local/lib/python3.11/dist-packages (from httpx<1,>=0.23.0->langsmith<0.3,>=0.1.17->langchain) (3.7.1)\n",
            "Requirement already satisfied: httpcore==1.* in /usr/local/lib/python3.11/dist-packages (from httpx<1,>=0.23.0->langsmith<0.3,>=0.1.17->langchain) (1.0.7)\n",
            "Requirement already satisfied: h11<0.15,>=0.13 in /usr/local/lib/python3.11/dist-packages (from httpcore==1.*->httpx<1,>=0.23.0->langsmith<0.3,>=0.1.17->langchain) (0.14.0)\n",
            "Requirement already satisfied: jsonpointer>=1.9 in /usr/local/lib/python3.11/dist-packages (from jsonpatch<2.0,>=1.33->langchain-core<0.4.0,>=0.3.29->langchain) (3.0.0)\n",
            "Requirement already satisfied: sniffio>=1.1 in /usr/local/lib/python3.11/dist-packages (from anyio->httpx<1,>=0.23.0->langsmith<0.3,>=0.1.17->langchain) (1.3.1)\n",
            "Requirement already satisfied: langchain-core in /usr/local/lib/python3.11/dist-packages (0.3.29)\n",
            "Collecting langchain-community\n",
            "  Downloading langchain_community-0.3.14-py3-none-any.whl.metadata (2.9 kB)\n",
            "Requirement already satisfied: PyYAML>=5.3 in /usr/local/lib/python3.11/dist-packages (from langchain-core) (6.0.2)\n",
            "Requirement already satisfied: jsonpatch<2.0,>=1.33 in /usr/local/lib/python3.11/dist-packages (from langchain-core) (1.33)\n",
            "Requirement already satisfied: langsmith<0.3,>=0.1.125 in /usr/local/lib/python3.11/dist-packages (from langchain-core) (0.2.10)\n",
            "Requirement already satisfied: packaging<25,>=23.2 in /usr/local/lib/python3.11/dist-packages (from langchain-core) (24.2)\n",
            "Requirement already satisfied: pydantic<3.0.0,>=2.5.2 in /usr/local/lib/python3.11/dist-packages (from langchain-core) (2.10.5)\n",
            "Requirement already satisfied: tenacity!=8.4.0,<10.0.0,>=8.1.0 in /usr/local/lib/python3.11/dist-packages (from langchain-core) (9.0.0)\n",
            "Requirement already satisfied: typing-extensions>=4.7 in /usr/local/lib/python3.11/dist-packages (from langchain-core) (4.12.2)\n",
            "Requirement already satisfied: SQLAlchemy<3,>=1.4 in /usr/local/lib/python3.11/dist-packages (from langchain-community) (2.0.37)\n",
            "Requirement already satisfied: aiohttp<4.0.0,>=3.8.3 in /usr/local/lib/python3.11/dist-packages (from langchain-community) (3.11.11)\n",
            "Collecting dataclasses-json<0.7,>=0.5.7 (from langchain-community)\n",
            "  Downloading dataclasses_json-0.6.7-py3-none-any.whl.metadata (25 kB)\n",
            "Collecting httpx-sse<0.5.0,>=0.4.0 (from langchain-community)\n",
            "  Downloading httpx_sse-0.4.0-py3-none-any.whl.metadata (9.0 kB)\n",
            "Requirement already satisfied: langchain<0.4.0,>=0.3.14 in /usr/local/lib/python3.11/dist-packages (from langchain-community) (0.3.14)\n",
            "Requirement already satisfied: numpy<2,>=1.22.4 in /usr/local/lib/python3.11/dist-packages (from langchain-community) (1.26.4)\n",
            "Collecting pydantic-settings<3.0.0,>=2.4.0 (from langchain-community)\n",
            "  Downloading pydantic_settings-2.7.1-py3-none-any.whl.metadata (3.5 kB)\n",
            "Requirement already satisfied: requests<3,>=2 in /usr/local/lib/python3.11/dist-packages (from langchain-community) (2.32.3)\n",
            "Requirement already satisfied: aiohappyeyeballs>=2.3.0 in /usr/local/lib/python3.11/dist-packages (from aiohttp<4.0.0,>=3.8.3->langchain-community) (2.4.4)\n",
            "Requirement already satisfied: aiosignal>=1.1.2 in /usr/local/lib/python3.11/dist-packages (from aiohttp<4.0.0,>=3.8.3->langchain-community) (1.3.2)\n",
            "Requirement already satisfied: attrs>=17.3.0 in /usr/local/lib/python3.11/dist-packages (from aiohttp<4.0.0,>=3.8.3->langchain-community) (24.3.0)\n",
            "Requirement already satisfied: frozenlist>=1.1.1 in /usr/local/lib/python3.11/dist-packages (from aiohttp<4.0.0,>=3.8.3->langchain-community) (1.5.0)\n",
            "Requirement already satisfied: multidict<7.0,>=4.5 in /usr/local/lib/python3.11/dist-packages (from aiohttp<4.0.0,>=3.8.3->langchain-community) (6.1.0)\n",
            "Requirement already satisfied: propcache>=0.2.0 in /usr/local/lib/python3.11/dist-packages (from aiohttp<4.0.0,>=3.8.3->langchain-community) (0.2.1)\n",
            "Requirement already satisfied: yarl<2.0,>=1.17.0 in /usr/local/lib/python3.11/dist-packages (from aiohttp<4.0.0,>=3.8.3->langchain-community) (1.18.3)\n",
            "Collecting marshmallow<4.0.0,>=3.18.0 (from dataclasses-json<0.7,>=0.5.7->langchain-community)\n",
            "  Downloading marshmallow-3.25.1-py3-none-any.whl.metadata (7.3 kB)\n",
            "Collecting typing-inspect<1,>=0.4.0 (from dataclasses-json<0.7,>=0.5.7->langchain-community)\n",
            "  Downloading typing_inspect-0.9.0-py3-none-any.whl.metadata (1.5 kB)\n",
            "Requirement already satisfied: jsonpointer>=1.9 in /usr/local/lib/python3.11/dist-packages (from jsonpatch<2.0,>=1.33->langchain-core) (3.0.0)\n",
            "Requirement already satisfied: langchain-text-splitters<0.4.0,>=0.3.3 in /usr/local/lib/python3.11/dist-packages (from langchain<0.4.0,>=0.3.14->langchain-community) (0.3.5)\n",
            "Requirement already satisfied: httpx<1,>=0.23.0 in /usr/local/lib/python3.11/dist-packages (from langsmith<0.3,>=0.1.125->langchain-core) (0.28.1)\n",
            "Requirement already satisfied: orjson<4.0.0,>=3.9.14 in /usr/local/lib/python3.11/dist-packages (from langsmith<0.3,>=0.1.125->langchain-core) (3.10.14)\n",
            "Requirement already satisfied: requests-toolbelt<2.0.0,>=1.0.0 in /usr/local/lib/python3.11/dist-packages (from langsmith<0.3,>=0.1.125->langchain-core) (1.0.0)\n",
            "Requirement already satisfied: annotated-types>=0.6.0 in /usr/local/lib/python3.11/dist-packages (from pydantic<3.0.0,>=2.5.2->langchain-core) (0.7.0)\n",
            "Requirement already satisfied: pydantic-core==2.27.2 in /usr/local/lib/python3.11/dist-packages (from pydantic<3.0.0,>=2.5.2->langchain-core) (2.27.2)\n",
            "Collecting python-dotenv>=0.21.0 (from pydantic-settings<3.0.0,>=2.4.0->langchain-community)\n",
            "  Downloading python_dotenv-1.0.1-py3-none-any.whl.metadata (23 kB)\n",
            "Requirement already satisfied: charset-normalizer<4,>=2 in /usr/local/lib/python3.11/dist-packages (from requests<3,>=2->langchain-community) (3.4.1)\n",
            "Requirement already satisfied: idna<4,>=2.5 in /usr/local/lib/python3.11/dist-packages (from requests<3,>=2->langchain-community) (3.10)\n",
            "Requirement already satisfied: urllib3<3,>=1.21.1 in /usr/local/lib/python3.11/dist-packages (from requests<3,>=2->langchain-community) (2.3.0)\n",
            "Requirement already satisfied: certifi>=2017.4.17 in /usr/local/lib/python3.11/dist-packages (from requests<3,>=2->langchain-community) (2024.12.14)\n",
            "Requirement already satisfied: greenlet!=0.4.17 in /usr/local/lib/python3.11/dist-packages (from SQLAlchemy<3,>=1.4->langchain-community) (3.1.1)\n",
            "Requirement already satisfied: anyio in /usr/local/lib/python3.11/dist-packages (from httpx<1,>=0.23.0->langsmith<0.3,>=0.1.125->langchain-core) (3.7.1)\n",
            "Requirement already satisfied: httpcore==1.* in /usr/local/lib/python3.11/dist-packages (from httpx<1,>=0.23.0->langsmith<0.3,>=0.1.125->langchain-core) (1.0.7)\n",
            "Requirement already satisfied: h11<0.15,>=0.13 in /usr/local/lib/python3.11/dist-packages (from httpcore==1.*->httpx<1,>=0.23.0->langsmith<0.3,>=0.1.125->langchain-core) (0.14.0)\n",
            "Collecting mypy-extensions>=0.3.0 (from typing-inspect<1,>=0.4.0->dataclasses-json<0.7,>=0.5.7->langchain-community)\n",
            "  Downloading mypy_extensions-1.0.0-py3-none-any.whl.metadata (1.1 kB)\n",
            "Requirement already satisfied: sniffio>=1.1 in /usr/local/lib/python3.11/dist-packages (from anyio->httpx<1,>=0.23.0->langsmith<0.3,>=0.1.125->langchain-core) (1.3.1)\n",
            "Downloading langchain_community-0.3.14-py3-none-any.whl (2.5 MB)\n",
            "\u001b[2K   \u001b[90m━━━━━━━━━━━━━━━━━━━━━━━━━━━━━━━━━━━━━━━━\u001b[0m \u001b[32m2.5/2.5 MB\u001b[0m \u001b[31m33.7 MB/s\u001b[0m eta \u001b[36m0:00:00\u001b[0m\n",
            "\u001b[?25hDownloading dataclasses_json-0.6.7-py3-none-any.whl (28 kB)\n",
            "Downloading httpx_sse-0.4.0-py3-none-any.whl (7.8 kB)\n",
            "Downloading pydantic_settings-2.7.1-py3-none-any.whl (29 kB)\n",
            "Downloading marshmallow-3.25.1-py3-none-any.whl (49 kB)\n",
            "\u001b[2K   \u001b[90m━━━━━━━━━━━━━━━━━━━━━━━━━━━━━━━━━━━━━━━━\u001b[0m \u001b[32m49.6/49.6 kB\u001b[0m \u001b[31m3.0 MB/s\u001b[0m eta \u001b[36m0:00:00\u001b[0m\n",
            "\u001b[?25hDownloading python_dotenv-1.0.1-py3-none-any.whl (19 kB)\n",
            "Downloading typing_inspect-0.9.0-py3-none-any.whl (8.8 kB)\n",
            "Downloading mypy_extensions-1.0.0-py3-none-any.whl (4.7 kB)\n",
            "Installing collected packages: python-dotenv, mypy-extensions, marshmallow, httpx-sse, typing-inspect, pydantic-settings, dataclasses-json, langchain-community\n",
            "Successfully installed dataclasses-json-0.6.7 httpx-sse-0.4.0 langchain-community-0.3.14 marshmallow-3.25.1 mypy-extensions-1.0.0 pydantic-settings-2.7.1 python-dotenv-1.0.1 typing-inspect-0.9.0\n"
          ]
        }
      ],
      "source": [
        "!pip install langchain\n",
        "!pip install langchain-core langchain-community"
      ]
    },
    {
      "cell_type": "code",
      "source": [
        "!pip install pypdf"
      ],
      "metadata": {
        "colab": {
          "base_uri": "https://localhost:8080/"
        },
        "id": "LXdmJJDTjAm2",
        "outputId": "12627652-d398-456b-dd15-10cca594ec57"
      },
      "execution_count": null,
      "outputs": [
        {
          "output_type": "stream",
          "name": "stdout",
          "text": [
            "Collecting pypdf\n",
            "  Downloading pypdf-5.1.0-py3-none-any.whl.metadata (7.2 kB)\n",
            "Downloading pypdf-5.1.0-py3-none-any.whl (297 kB)\n",
            "\u001b[?25l   \u001b[90m━━━━━━━━━━━━━━━━━━━━━━━━━━━━━━━━━━━━━━━━\u001b[0m \u001b[32m0.0/298.0 kB\u001b[0m \u001b[31m?\u001b[0m eta \u001b[36m-:--:--\u001b[0m\r\u001b[2K   \u001b[91m━━━━━━━━━━━━━━━━━━━━━━━━━━━━━━━━━━━━━━━\u001b[0m\u001b[91m╸\u001b[0m \u001b[32m297.0/298.0 kB\u001b[0m \u001b[31m9.7 MB/s\u001b[0m eta \u001b[36m0:00:01\u001b[0m\r\u001b[2K   \u001b[90m━━━━━━━━━━━━━━━━━━━━━━━━━━━━━━━━━━━━━━━━\u001b[0m \u001b[32m298.0/298.0 kB\u001b[0m \u001b[31m6.0 MB/s\u001b[0m eta \u001b[36m0:00:00\u001b[0m\n",
            "\u001b[?25hInstalling collected packages: pypdf\n",
            "Successfully installed pypdf-5.1.0\n"
          ]
        }
      ]
    },
    {
      "cell_type": "code",
      "source": [
        "from langchain.document_loaders import PyPDFLoader\n",
        "\n",
        "loader = PyPDFLoader(\"/content/[정책브리프 2021-04] 탄소중립 대응을 위한 정부 정책과 동향.pdf\")"
      ],
      "metadata": {
        "id": "nYkmhjvWje2Q"
      },
      "execution_count": null,
      "outputs": []
    },
    {
      "cell_type": "code",
      "source": [
        "pages = loader.load_and_split()"
      ],
      "metadata": {
        "id": "KE2yP46qkxaV"
      },
      "execution_count": null,
      "outputs": []
    },
    {
      "cell_type": "code",
      "source": [
        "pages[1]"
      ],
      "metadata": {
        "colab": {
          "base_uri": "https://localhost:8080/"
        },
        "id": "VvPvTeXdlF9j",
        "outputId": "b566ac96-b6cf-4e57-ba3c-0d9bf3e99b11"
      },
      "execution_count": null,
      "outputs": [
        {
          "output_type": "execute_result",
          "data": {
            "text/plain": [
              "Document(metadata={'source': '/content/[정책브리프 2021-04] 탄소중립 대응을 위한 정부 정책과 동향.pdf', 'page': 1}, page_content='02\\n※ ‘2050 탄소중립 추진전략’을 중심으로 작성된 이노비즈 정책브리프 2021-04호 이후 탄소중립 대응에 필요한 정책 기조와 글로벌 동향, 조사연구 결과 등을 꾸준히 소개할 예정입니다.\\n목 차탄소중립과 대응 필요성1탄소중립 대응을 위한 정부 정책3해외 주요국 동향6국내 대기업 동향7중소기업의 탄소중립 대응8부록: 주요 정부 정책과제 추진 일정10부록: 탄소중립 관련 정보 제공 누리집12')"
            ]
          },
          "metadata": {},
          "execution_count": 7
        }
      ]
    },
    {
      "cell_type": "code",
      "source": [
        "pages[1].page_content"
      ],
      "metadata": {
        "colab": {
          "base_uri": "https://localhost:8080/",
          "height": 70
        },
        "id": "USzOhlXwlfdM",
        "outputId": "1da1b81a-2c5f-4979-bba9-72131b36484d"
      },
      "execution_count": null,
      "outputs": [
        {
          "output_type": "execute_result",
          "data": {
            "text/plain": [
              "'02\\n※ ‘2050 탄소중립 추진전략’을 중심으로 작성된 이노비즈 정책브리프 2021-04호 이후 탄소중립 대응에 필요한 정책 기조와 글로벌 동향, 조사연구 결과 등을 꾸준히 소개할 예정입니다.\\n목 차탄소중립과 대응 필요성1탄소중립 대응을 위한 정부 정책3해외 주요국 동향6국내 대기업 동향7중소기업의 탄소중립 대응8부록: 주요 정부 정책과제 추진 일정10부록: 탄소중립 관련 정보 제공 누리집12'"
            ],
            "application/vnd.google.colaboratory.intrinsic+json": {
              "type": "string"
            }
          },
          "metadata": {},
          "execution_count": 9
        }
      ]
    },
    {
      "cell_type": "code",
      "source": [
        "!pip install docx2txt"
      ],
      "metadata": {
        "colab": {
          "base_uri": "https://localhost:8080/"
        },
        "id": "Sp7aT9IMmKJe",
        "outputId": "94cb6965-cb7a-4fc8-86ae-fb8cea77ca3c"
      },
      "execution_count": null,
      "outputs": [
        {
          "output_type": "stream",
          "name": "stdout",
          "text": [
            "Collecting docx2txt\n",
            "  Downloading docx2txt-0.8.tar.gz (2.8 kB)\n",
            "  Preparing metadata (setup.py) ... \u001b[?25l\u001b[?25hdone\n",
            "Building wheels for collected packages: docx2txt\n",
            "  Building wheel for docx2txt (setup.py) ... \u001b[?25l\u001b[?25hdone\n",
            "  Created wheel for docx2txt: filename=docx2txt-0.8-py3-none-any.whl size=3960 sha256=642b58f52ba3288183ea95afda3346f6c4678a6f572fec545461e3d43eb5e879\n",
            "  Stored in directory: /root/.cache/pip/wheels/0f/0e/7a/3094a4ceefe657bff7e12dd9592a9d5b6487ef4338ace0afa6\n",
            "Successfully built docx2txt\n",
            "Installing collected packages: docx2txt\n",
            "Successfully installed docx2txt-0.8\n"
          ]
        }
      ]
    },
    {
      "cell_type": "code",
      "source": [
        "from langchain.document_loaders import Docx2txtLoader\n",
        "loader = Docx2txtLoader(\"/content/LLM이 만들어 내는 혁명과 교통산업.docx\")"
      ],
      "metadata": {
        "id": "IZeIYC9fqDi4"
      },
      "execution_count": null,
      "outputs": []
    },
    {
      "cell_type": "code",
      "source": [
        "data = loader.load()"
      ],
      "metadata": {
        "id": "D0KNdu6PrT5D"
      },
      "execution_count": null,
      "outputs": []
    },
    {
      "cell_type": "code",
      "source": [
        "data"
      ],
      "metadata": {
        "colab": {
          "base_uri": "https://localhost:8080/"
        },
        "id": "ABLdxexXravJ",
        "outputId": "0fd41216-cb74-4b85-deeb-ff87423b4cef"
      },
      "execution_count": null,
      "outputs": [
        {
          "output_type": "execute_result",
          "data": {
            "text/plain": [
              "[Document(metadata={'source': '/content/LLM이 만들어 내는 혁명과 교통산업.docx'}, page_content=\"LLM이 만들어 내는 혁명과 교통산업\\n\\n김영욱\\n\\nMicrosoft에서 플랫폼 사업부에서 수석으로 일했으며 지금은 AI 전문기업인 Hello AI 창업해서 인공지능과 관련한 프로젝트 및 과제를 수행하고 있으며 강연과 집필 그리고 교육에도 힘쓰고 있다. \\n\\n\\n\\n 최근 모든 분야에서 이전에 없었던 급격한 기술 발전이 사회의 모습을 바꾸고 또 바뀐 사회 필요를 또 다시 새로운 기술로 채워 나가는 빠른 순환이 일어 나고 있다. 그런데 변화를 주도하는 기술 중에서 특히 IT 기술은 더더욱 그런 현상을 가속화 시킬 뿐만 아니라 주도하고 있는 현상을 우리는 쉽게 볼 수 있다. \\n\\n코로나 이후 전 세계적으로 어려운 경제 상황을 보여주고 있지만 상대적으로 유럽은 더더욱 큰 경제 불황의 고리에 빠져들고 있는데 유럽 경제가 힘든 이유는 우크라이나 전쟁을 비롯, 에너지 문제를 포함해서 여러 이유를 함께 생각해 볼 수 있지만 IT산업이 제대로 발전하지 못한 이유도 크게 한 몫하고 있다. 우리가 주변에서 편하게 사용하는 다양한 인터넷 서비스들 중 유럽 것을 찾아보기 힘든 것만 봐도 유럽은 여전히 전통적인 산업에 머물러 있다는 것을 알 수 있다. 또 미국의 S&P 500의 시가 총액 상위 종목들을 보면 애플, Microsoft, 구글, 아마존 그리고 테슬라 등 IT 관련 기술주가 상위권을 휩쓸고 있는 것을 볼 수 있다. 그렇게 우리는 IT 기술이 곧 경쟁력인 세상의 한복판에 살아가고 있다. \\n\\n\\n\\nThe age of Generative AI \\n\\n 작년 말 갑자기 등장한 ChatGPT는 최근 모든 이슈를 가져와도 비교가 되지 않을 만큼 큰 이슈를 일으키고 있다. 사람들은 ChatGPT를 보자마자 IT 역사에 큰 변화를 일으킬 또 하나의 마일스톤이 시작되었다는 생각 보다는 각자 필요한 용도로 활용 할 수 있다는 점에 열광하기 시작했다. 100만 사용자가 단 5일만에 가입한 사실만 보더라도 사람들이 얼마나 ChatGPT에 열광하고 있는 것을 알 수 있다.  \\n\\n <그림1> 주요 서비스의 회원 100만명 달성 시간 (출처: statista)\\n\\n ChatGPT 이전에 세상에서 이슈 몰이를 했던 인공지능으로는 구글의 알파고를 빼놓고 이야기 할 수 없다. 알파고는 바둑을 혹은 바둑만 전문적으로 추론 할 수 있는 인공지능이었다. 최근 알파고 이야기를 주변에서 찾아 볼 수 없는 이유는 알파고를 바둑 이외의 영역에 적용했을 때 인상적인 결과를 만들지 못했기 때문일지도 모른다. 항상 이런 전문성이라는 것은 양날의 검과 같아서 장점과 치명적인 한계를 함께 동반하는 것이 일반적이다. 비슷하게 우리 주변의 인공지능 시스템들은 대부분은 한정된 영역의 일만 할 수 있는 소위 말하는 전문가 시스템이었다. 집안의 온도를 맞추어 주고 공장의 품질 관리를 해주고 농장의 작물들을 키워주는 인공지능 시스템들도 모두 특정 용도에 최적화된 전문가 시스템이라고 할 수 있다. \\n\\n하지만 사람들이 인공지능에 거는 기대치는 이보다 훨씬 높다. 우리가 아이언맨 등의 영화에서 봤던 자비스와 같은 인공지능은 어떨까? 주인공인 토니 스타크가 묻는 질문에 적절하게 대답해주고 주변에 있는 시설들을 제어하면서 주인공의 또 하나의 동료로 완전히 함께 일하는 모습을 볼 수 있다. 사실 자비스와 같이 다양한 용도로 사용 할 수 있는 수준의 인공지능을 인공 일반 지능(AGI: Artificial General Intelligence) 기술이라고 말한다. 인공 일반 지능은 전문가 시스템에 반대되는 개념으로 사람들의 말과 말속의 맥락을 정확하게 이해하고 거기에 맞게 동작하거나 답을 해주는 것이 목표이다. ChatGPT는 이제까지 나왔던 그 어떤 인공 지능 기술 보다도 인공 일반 지능에 가장 가까운 기술이었고 그래서 사람들은 ChatGPT를 보면서 자비스를 떠올리고 있었는지도 모르겠다. \\n\\n\\n\\n전 세계의 말들을 학습한 LLM\\n\\n이전에는 컴퓨터에게 사람의 말을 가르치기 위해서 문법적인 접근을 했다. 언어들의 문법적인 원리를 연구하고 발견된 원리들을 컴퓨터에 소프트웨어로 제작하는 방식으로 접근을 했지만 의미 있는 결과를 도출하는 것이 어려웠다. 문법적인 접근이 어려움을 겪었던 이유는 모든 사람들이 문법적으로 이야기 하지 않는다는 점이 첫 번째 문제였다. 문법이라는 것이 일정한 듯 하면서도 모든 언어적인 현상들을 모두 문법으로 설명할 수 없었다. 또 다른 이유는 사람들은 계속해서 새로운 단어들을 만들어 내고 있다는 점이다. 단적인 예를 들자면 ‘구글링’이라는 단어는 구글이 등장하기 전에는 존재하지 않았던 동사였다. 그래서 문법적인 접근으로는 한계가 있음을 인정하지 않을 수 없었다. 문법적인 접근을 하는 대신 사람들이 실제 사용하는 말을 긁어 모아서 단어 사이의 가중치를 매기는 방식으로 접근하기 시작했다. 이 방식의 경우 사람들의 말의 양을 늘리면 늘릴 수록 결과물도 함께 좋아지는 장점이 있었고 또 인터넷 등에서 사람들이 실제로 사용하는 말을 모아서 학습하다 보니 새로운 단어들과 기존에 알려진 문법과 상관없는 현상들을 모두 분석할 수 있는 장점이 있었다. 문제는 말의 양을 늘리면 늘릴 수록 분석하는데 들어가는 컴퓨팅 비용도 기하급수적으로 늘어난다는 점에 있었다. 그래서 무한정으로 학습량을 늘리는 것은 어려웠다. 어찌되었든 이렇게 사람의 말을 학습해 놓은 것을 언어 모델(LM: Language Model)이라 부르는데 이 중에서도 특히 언어 모델을 엄청난 크기로 만들어 놓은 것을 거대 언어 모델(LLM: Large Language Model)이라고 불렀다. \\n\\n\\n\\n데이터세트\\n\\n토큰\\n\\n교육 비율\\n\\n일반 크롤링\\n\\n4100억개\\n\\n60%\\n\\n웹텍스트 2\\n\\n190억개\\n\\n22%\\n\\n책1\\n\\n120억개\\n\\n8%\\n\\n책2\\n\\n550억개\\n\\n8%\\n\\n위키백과\\n\\n30억개\\n\\n3%\\n\\n <표1> 대표적인 LLM인 GPT3의 학습에 사용된 데이터 양\\n\\n거대 언어 모델을 만드는 데에는 엄청난 비용과 컴퓨팅 인프라가 필요한 까닭에 주요 소프트웨어 회사에서 개발하고 있다. 최근에는 주로 구글, Microsoft, 엔비디아, 그리고 오픈AI와 같은 글로벌 대형 업체들이 주도적으로 연구와 개발을 하고 있는데 이중에서도 오픈AI는 상대적으로 작은 규모의 회사이긴 하지만 Microsoft가 14조가 넘는 비용을 투자하면서 선두로 나서게 되었으며 언어 모델인 GPT, 이미지를 생성하는 DALL-E2 이외에도 많은 연구를 하고 있다. \\n\\n\\n\\n지식전이 현상의 발견 \\n\\n거대 언어 모델을 만드는 과정에서 수 많은 말들을 처리하다 보니 잘 만들어진 언어 모델은 그 자체로 많은 잠재성을 가질 수 있게 되었다. 언어 모델에 들어 있는 말들 자체가 하나의 거대한 지식 체계로 동작하면서 새로운 능력들이 발현하게 되었는데 이와 같은 현상을 지식의 전이(Knowledge Transfer)라 부르게 되었다. 실제로 오픈AI가 만든 GPT-3 모델의 경우 기본적으로 감정의 분석, 문서의 요약, 번역, 질의응답, 작문, 문장의 재구성 등 많은 능력을 가지고 있어서 이미 많은 분야에서 이 능력을 활용하고 있거나 활용하기 위해서 시도하고 있다. GPT-4의 경우 이 보다 훨씬 더 큰 잠재력이 있는 것으로 알려져 있다. 지식의 전이 현상으로 인해 다양한 일들을 척척 해내는 것을 보면 거대 언어 모델의 능력이 무한 할 것 같지만 ChatGPT 역시 만능은 아니다. ChatGPT가 나름 다양한 능력을 가지고 있고 이전에 없었던 새로운 일들을 가능하게 해주는 놀라운 존재이긴 하지만 한계도 역시 분명하다. ChatGPT는 다음과 같이 알려진 한계가 있다. \\n\\n\\n\\n2021년 9월에 멈춘 학습\\n\\n일관성 없는 결과물\\n\\n거짓 정보 (Hallucination)\\n\\n영어에 비해 떨어지는 한국어 결과물\\n\\n\\n\\nChatGPT를 학습 시킬 때 전세계의 인터넷과 책에 있는 자료들을 긁어 모아서 학습을 시켰지만 그 학습 자료는 2021년 9월에 머물러 있다. 따라서 최신 정보를 묻는다면 대답을 할 수 없다. 가령 예를 들자면 \\n\\n\\n\\n‘지금 한국의 대통령은?’, \\n\\n‘오늘 삼성전자 주가는 얼마야?’,\\n\\n’내일 비가 올 것 같아?’\\n\\n\\n\\n이런 질문들에 대해서는 답변을 할 수 없다. 또 ChatGPT 자체는 학습된 데이터를 기반으로 말을 생성해 내는 것이 주된 기능이고 생성된 말의 일관성이나 혹은 사실 여부를 검증해 주지는 않는다. 그래서 질문 할 때 마다 다른 말을 만들어 내주는가 하면 또 때로는 아주 아주 진지하고 그럴싸한 거짓말을 하기도 한다. 모르는 사람들은 ChatGPT가 만들어내는 거짓말을 그대로 믿을 만큼 거짓말을 잘한다. 또 다른 문제로는 GPT-4에 이르러서는 조금 나아지긴 했지만 기본적으로 한국어 보다는 영어의 학습량이 많기 때문에 한국어 보다는 영어가 더 좋은 결과물을 보여주기도 한다. \\n\\n\\n\\n생성형 인공지능의 시대가 왔다. \\n\\n위에서 ChatGPT의 한계를 이야기 했지만 업계에서는 빠르게 한계를 극복하면서 빠르게 생성형 인공지능을 제품이나 서비스로 연결하고 있다. 생성형 인공지능과 관련해서는 구글, 메타, 엔비디아 그리고 국내의 네이버 등도 빠르게 움직이고 결과물을 내놓고 있지만 최근 이 분야에서 가장 빠르게 움직이고 있는 기업은 바로 Microsoft이다. \\n\\n Microsoft는 검색엔진인 빙(Bing)에 생성형 AI 기술을 적용해서 대화형으로 문제를 해결할 수 있는 방법을 제공하면서 빠르게 구글의 점유율을 가져오고 있다. 또 빙 이미지 크리에이터를 통해서 사용자들에게 필요한 이미지를 생성 할 수 있는 방법도 함께 제공하고 있다. \\n\\n Microsoft의 전략에서 특히 눈의 띄는 부분은 바로 플랫폼이다. Microsoft는 거대 언어 모델을 그 자체로 사용하지 않고 개발을 위한 시멘틱 커널 프레임웍(Semantic Kernel Framework)을 먼저 만들고 그 기반으로 코파일럿(Copilot)라는 이름으로 플랫폼화를 했다. 플랫폼화가 잘되고 나면 안정적으로 새로운 많은 제품과 서비스에서 거대 언어 모델의 효과를 즉시 발휘할 수 있게 확장 할 수 있게 된다. \\n\\n Microsoft는 Copilot 서비스를 소프트웨어 개발 도구로 활용할 수 있게 Github Copilot으로 출시해서 소프트웨어 개발 분야에서 활용 하는가 하면 일반인들을 위해서 윈도우 11에서 거대 언어 모델을 사용할 수 있는 Windows Copilot의 오픈 베타 버전을 내놓았다. \\n\\n\\n<그림2> Windows Copilot (출처: Windows 11 Copilot 테스트 받은 편지함, ChatGPT 및 Bing AI 플러그인 통합 - GAMINGDEPUTY KOREA)\\n\\n 뿐만 아니라 워드, 엑셀, 파워포인트, 팀즈, 아웃룩 등 오피스 제품들을 클라우드 기반으로 제공하는 Microsoft 365에도 역시 코파일럿 제품이 들어가면서 이제 부터는 문서 작성이나 엑셀에서 데이터 분석, 발표용 슬라이드 작성등 대부분의 작업을 이제부터는 코파일럿과의 채팅을 통해서 해결할 수 있는 시대가 왔다. \\n\\n Microsoft 뿐만 아니다. 포토샵으로 유명한 어도비(Adobe)도 적극적으로 생성형 인공지능을 활용하고 있다. 포토샵에서 여러 도구들을 사용해서 사람이 이미지를 일일이 수정하는 것이 아니라 생성형 인공지능을 사용해서 영역을 지정하고 어떻게 수정할 것인지 말로 표현하면 인공지능이 이미지를 수정해주는 식으로 동작 할 수 있다. \\n\\n\\n\\n<그림3> 포토샵에서 생성형 인공지능의 활용(Photoshop Has Become a Lot More Powerful Thanks to Brand New Generative AI Features Using Adobe's Firefly (wccftech.com)\\n\\n이렇게 생성형 인공지능 기술들은 IT 산업 전반에서 IT와 사람 사이의 인터페이스를 변화 시키고 있다. 버튼을 누르거나 사용자의 입력에 의해서 반응하던 시스템이 아니라 사람과의 대화를 통해서 내용을 이용하고 함께 작업에 동참하는 자비스가 어느덧 이제는 우리 곁으로 들어왔다. \\n\\n\\n\\n교통산업과 거대 언어 모델 \\n\\n미국 최대 자동차 회사인 제너럴모터스(GM)이 ChatGPT를 자사 차량에 적용하는 방안을 모색하고 있다는 발표를 했다. 이런 변화가 자연스럽게 느껴지는 것은 자동차라는 공간이 단순한 이동 수단을 넘어서서 이제는 하나의 스마트 디바이스로 진화하고 있기 때문이다. 고성능 컴퓨터가 탑재되어서 완벽하지는 않아도 운전 보조 장치로는 충분한 수준의 자율주행을 수행할 수 있게 되었고 음성으로 대화가 가능한 인터페이스가 탑재되기 시작했다. \\n\\n 자동차로 이동할 때 필요한 주요 장치들의 제어 뿐만 아니라 네비게이션을 포함한 인포테인먼트 그리고 오디오와 함께 다양한 콘텐츠를 소비할 수 있게 발전하고 있는 엔터테인먼트까지 생성형 인공지능을 활용할 수 있는 분야는 무궁 무진하다. 이것은 단순한 가능성이 아니라 처음에는 프리미엄급의 기준이 생성형 인공지능의 탑재 여부가 될 예정이고 더 나아가 전체적인 자동차의 기능과 어떻게 잘 통합할 수 있는지 여부는 자동차 회사의 미래 가치에 치명적인 영향을 끼치게 될 것이다. \\n\\n 이런 면에 있어서 이미 충분한 컴퓨팅 파워를 탑재하고 있는 프리미엄급의 전기 자동차들은 생성형 인공지능의 초기 데뷔 무대가 될 확률이 높다. 지금까지 전기 자동차는 베터리와 모터와 같은 전기 장비들을 잘 통합하고 경쟁력 있는 가격에 제공하는 것이 주요 경쟁력이었다면 앞으로는 전기 계통의 플랫폼들은 모두 기본 이상의 품질을 갖추게 되고 결국 사람들이 직접 느낄 수 있는 편의성과 고급스러움이 경쟁력이 될 예정이며 여기에서 핵심 기술이 ChatGPT와 같은 LLM 기술이 될 것으로 보인다. \\n\\n\\n\\n<그림4> 자동차 산업에서의 생성형 인공지능 (출처: AI In Cars: 14 Types of Automotive AI | Built In)\\n\\n\\n\\n 자동차만 변화의 대상이 되지 않는다. 교통이란 항상 한정된 자원인 도로를 이용해서 원활한 이동을 이끌어 내기 위해서 항상 많은 데이터를 거의 실시간으로 처리하는 것이 일상이다. 이런 데이터를 기반으로 의사결정을 하고 차량의 흐름을 통제하는데 역시 생성형 인공지능이 적극적으로 활용 될 수 있다. 이미 지금도 데이터에 대해서 질문만 했을 뿐인데 그 답을 찾기 위해서 생성형 인공지능이 스스로 데이터를 분석하기 위한 코드를 작성하고 실행해서 얻어진 결과로 답변을 작성해서 알려준다. \\n\\n ChatGPT의 이런 발전 속도와 변화는 사실 IT업계에 종사하는 사람들 조차 받아들이기 버거울 정도로 크다. 하지만 1년이 되지 않는 이런 변화의 시작이 3년이 지났을 때 그리고 10년이 지났을 때 또 얼마나 큰 변화를 가져다 줄지는 가늠하기 어렵다. 하지만 한 가지 확실한 것은 그 변화에 전면부에 올라타는 것과 그렇지 못한 경우의 차이는 치명적일 것이라는 것 만큼은 분명할 것이다.\")]"
            ]
          },
          "metadata": {},
          "execution_count": 16
        }
      ]
    },
    {
      "cell_type": "code",
      "source": [],
      "metadata": {
        "id": "Rz7sB5kprmTw"
      },
      "execution_count": null,
      "outputs": []
    }
  ]
}